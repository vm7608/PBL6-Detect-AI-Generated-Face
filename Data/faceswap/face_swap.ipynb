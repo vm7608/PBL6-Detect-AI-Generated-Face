{
 "cells": [
  {
   "cell_type": "code",
   "execution_count": null,
   "metadata": {},
   "outputs": [],
   "source": [
    "# Mount drive\n",
    "from google.colab import drive\n",
    "drive.mount('/content/drive')"
   ]
  },
  {
   "cell_type": "code",
   "execution_count": null,
   "metadata": {},
   "outputs": [],
   "source": [
    "!unzip fake_source.zip\n",
    "!unzip real_target.zip"
   ]
  },
  {
   "cell_type": "code",
   "execution_count": null,
   "metadata": {},
   "outputs": [],
   "source": [
    "!pip install gradio_client"
   ]
  },
  {
   "cell_type": "code",
   "execution_count": null,
   "metadata": {},
   "outputs": [],
   "source": [
    "import os\n",
    "from concurrent.futures import ThreadPoolExecutor\n",
    "from gradio_client import Client\n",
    "\n",
    "\n",
    "OUTPUT_DIR = \"1k_output\"\n",
    "\n",
    "client = Client(\"https://felixrosberg-face-swap.hf.space/\", output_dir=OUTPUT_DIR)\n",
    "\n",
    "\n",
    "def process_image(target_image, source_image):\n",
    "    result = client.predict(\n",
    "        target_image,\n",
    "        source_image,\n",
    "        0,\n",
    "        0,\n",
    "        \"Compare\",\n",
    "        fn_index=1,\n",
    "    )"
   ]
  },
  {
   "cell_type": "code",
   "execution_count": null,
   "metadata": {},
   "outputs": [],
   "source": [
    "import time\n",
    "\n",
    "start_time = time.time()\n",
    "with ThreadPoolExecutor(max_workers=10) as executor:\n",
    "    for target_image, source_image in zip(\n",
    "        os.listdir(\"real_target\"), os.listdir(\"fake_source\")\n",
    "    ):\n",
    "        target_image = \"real_target/\" + target_image\n",
    "        source_image = \"fake_source/\" + source_image\n",
    "        executor.submit(process_image, target_image, source_image)\n",
    "end_time = time.time()\n",
    "print(f\"Total run time: {end_time - start_time}\")"
   ]
  },
  {
   "cell_type": "code",
   "execution_count": null,
   "metadata": {},
   "outputs": [],
   "source": [
    "import os\n",
    "import shutil\n",
    "\n",
    "FINAL_OUTPUT_DIR = \"face_swap_data\"\n",
    "\n",
    "os.makedirs(FINAL_OUTPUT_DIR, exist_ok=True)\n",
    "\n",
    "# Loop through all subdirectories in the output directory\n",
    "for subdir in os.listdir(OUTPUT_DIR):\n",
    "    subdir_path = os.path.join(OUTPUT_DIR, subdir)\n",
    "    if os.path.isdir(subdir_path):\n",
    "        for file in os.listdir(subdir_path):\n",
    "            file_path = os.path.join(subdir_path, file)\n",
    "            if os.path.isfile(file_path):\n",
    "                new_file_name = subdir + \".png\"\n",
    "                new_file_path = os.path.join(FINAL_OUTPUT_DIR, new_file_name)\n",
    "                shutil.copy(file_path, new_file_path)\n",
    "\n",
    "print(\"Total output files: \", len(os.listdir(FINAL_OUTPUT_DIR)))"
   ]
  }
 ],
 "metadata": {
  "kernelspec": {
   "display_name": ".venv",
   "language": "python",
   "name": "python3"
  },
  "language_info": {
   "name": "python",
   "version": "3.10.10"
  }
 },
 "nbformat": 4,
 "nbformat_minor": 2
}
