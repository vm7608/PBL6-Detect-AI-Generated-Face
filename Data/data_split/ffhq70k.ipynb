{
 "cells": [
  {
   "cell_type": "code",
   "execution_count": null,
   "metadata": {},
   "outputs": [],
   "source": [
    "from google.colab import drive\n",
    "drive.mount('/content/drive')\n"
   ]
  },
  {
   "cell_type": "code",
   "execution_count": null,
   "metadata": {},
   "outputs": [],
   "source": [
    "import os\n",
    "from PIL import Image\n",
    "from tqdm import tqdm\n",
    "\n",
    "# Set the paths for the input and output folders\n",
    "input_folder = \"PATH/TO/images1024x1024\"\n",
    "output_folder = \"PATH/TO/FFHQ\"\n",
    "\n",
    "subfolder_to_work_on = [\n",
    "    '09000',\n",
    "    '10000',\n",
    "    '54000',\n",
    "    '55000',\n",
    "    '56000',\n",
    "    '57000',\n",
    "    '58000',\n",
    "    '59000',\n",
    "    '60000',\n",
    "    '61000',\n",
    "    '62000',\n",
    "    '63000',\n",
    "    '64000',\n",
    "    '65000',\n",
    "    '66000',\n",
    "    '67000',\n",
    "    '68000',\n",
    "    '69000',\n",
    "]\n",
    "# Create the output folder if it doesn't exist\n",
    "os.makedirs(output_folder, exist_ok=True)\n",
    "\n",
    "# Loop through all subfolders in the input folder\n",
    "for subfolder in tqdm(os.listdir(input_folder), desc=\"Subfolders\"):\n",
    "    if subfolder not in subfolder_to_work_on:\n",
    "        continue\n",
    "    subfolder_path = os.path.join(input_folder, subfolder)\n",
    "    if os.path.isdir(subfolder_path):\n",
    "        # Loop through all images in the subfolder\n",
    "        for filename in os.listdir(subfolder_path):\n",
    "            if filename.endswith(\".png\"):\n",
    "                # Open the image and resize it to 512x512\n",
    "                image_path = os.path.join(subfolder_path, filename)\n",
    "                image = Image.open(image_path)\n",
    "                image = image.resize((512, 512))\n",
    "                # Save the resized image to the output folder\n",
    "                output_path = os.path.join(output_folder, filename)\n",
    "                image.save(output_path)"
   ]
  },
  {
   "cell_type": "code",
   "execution_count": null,
   "metadata": {},
   "outputs": [],
   "source": [
    "# print all subfolders in the input folder\n",
    "print(os.listdir(input_folder))"
   ]
  },
  {
   "cell_type": "code",
   "execution_count": null,
   "metadata": {},
   "outputs": [],
   "source": [
    "!zip -r /content/file.zip /content/Folder_To_Zip"
   ]
  },
  {
   "cell_type": "code",
   "execution_count": null,
   "metadata": {},
   "outputs": [],
   "source": [
    "import shutil\n",
    "\n",
    "# Set the paths for the input and output folders\n",
    "zip_file_path = \"/content/file.zip\"\n",
    "drive_folder_path = \"/content/drive/MyDrive/Folder_To_Save_Zip\"\n",
    "\n",
    "# Copy the zip file to the drive folder\n",
    "shutil.copy(zip_file_path, drive_folder_path)\n"
   ]
  }
 ],
 "metadata": {
  "language_info": {
   "name": "python"
  }
 },
 "nbformat": 4,
 "nbformat_minor": 2
}
